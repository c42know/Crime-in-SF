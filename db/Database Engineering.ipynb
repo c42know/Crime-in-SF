{
 "cells": [
  {
   "cell_type": "code",
   "execution_count": 64,
   "metadata": {
    "collapsed": true
   },
   "outputs": [],
   "source": [
    "#Import dependencies\n",
    "import pandas as pd\n",
    "import os"
   ]
  },
  {
   "cell_type": "code",
   "execution_count": 65,
   "metadata": {},
   "outputs": [],
   "source": [
    "# Python SQL toolkit and Object Relational Mapper\n",
    "import sqlalchemy\n",
    "from sqlalchemy.ext.automap import automap_base\n",
    "from sqlalchemy.orm import Session\n",
    "from sqlalchemy import create_engine, inspect, MetaData\n",
    "from sqlalchemy import Column, Integer, String, Float\n",
    "\n",
    "# Import and establish Base for which classes will be constructed \n",
    "from sqlalchemy.ext.declarative import declarative_base"
   ]
  },
  {
   "cell_type": "code",
   "execution_count": 66,
   "metadata": {
    "collapsed": true
   },
   "outputs": [],
   "source": [
    "#Read in the csv\n",
    "crime_data_2017 = pd.read_csv(\"Police_Department_Incidents_-_Previous_Year__2017_.csv\", dtype=object)"
   ]
  },
  {
   "cell_type": "code",
   "execution_count": 67,
   "metadata": {
    "collapsed": true
   },
   "outputs": [],
   "source": [
    "#Create a database using engine and call it crime_data_2017.sqlite\n",
    "engine = create_engine(\"sqlite:///crimedata2017.sqlite\")\n",
    "\n",
    "#Create a connection to the engine\n",
    "conn = engine.connect()"
   ]
  },
  {
   "cell_type": "code",
   "execution_count": 68,
   "metadata": {
    "collapsed": true
   },
   "outputs": [],
   "source": [
    "# Use `declarative_base` from SQLAlchemy to model 2017 crime data as an ORM\n",
    "Base = declarative_base()\n",
    "\n",
    "class CrimeData2017(Base):\n",
    "    __tablename__ = 'crimedata2017'\n",
    "    id = Column(Integer, primary_key=True)\n",
    "    IncidntNum = Column(Integer)\n",
    "    Category = Column(String)\n",
    "    Descript = Column(String)\n",
    "    DayOfWeek = Column(String)\n",
    "    Date = Column(String)\n",
    "    Time = Column(String)\n",
    "    PdDistrict = Column(String)\n",
    "    Resolution = Column(String)\n",
    "    Address = Column(String)\n",
    "    X = Column(Float)\n",
    "    Y = Column(Float)\n",
    "    Location = Column(String)\n",
    "    PdId = Column(Float)\n",
    "    \n",
    "    def __repr__(self):\n",
    "        return f\"id={self.id}, name={self.name}\"\n",
    "    \n"
   ]
  },
  {
   "cell_type": "code",
   "execution_count": 69,
   "metadata": {
    "collapsed": true
   },
   "outputs": [],
   "source": [
    "#Create the table in the database\n",
    "Base.metadata.create_all(engine)"
   ]
  },
  {
   "cell_type": "code",
   "execution_count": 70,
   "metadata": {},
   "outputs": [],
   "source": [
    "#Use Orient='records' to create a list of data to write\n",
    "crimedata2017_dict = crime_data_2017.to_dict(orient='records')"
   ]
  },
  {
   "cell_type": "code",
   "execution_count": 71,
   "metadata": {
    "collapsed": true
   },
   "outputs": [],
   "source": [
    "#Use MetaData from SQLAlchemy to reflect the table\n",
    "metadata = MetaData(bind=engine)\n",
    "metadata.reflect()\n",
    "\n",
    "#Save the reference to the crimedata2017 table as a variable\n",
    "crimedata2017 = sqlalchemy.Table('crimedata2017', metadata, autoload=True)"
   ]
  },
  {
   "cell_type": "code",
   "execution_count": 72,
   "metadata": {},
   "outputs": [
    {
     "data": {
      "text/plain": [
       "<sqlalchemy.engine.result.ResultProxy at 0x1a34baea90>"
      ]
     },
     "execution_count": 72,
     "metadata": {},
     "output_type": "execute_result"
    }
   ],
   "source": [
    "#Delete existing database so when you run it again, it will start with a clean slate\n",
    "conn.execute(crimedata2017.delete())"
   ]
  },
  {
   "cell_type": "code",
   "execution_count": 73,
   "metadata": {},
   "outputs": [
    {
     "data": {
      "text/plain": [
       "<sqlalchemy.engine.result.ResultProxy at 0x1a19236400>"
      ]
     },
     "execution_count": 73,
     "metadata": {},
     "output_type": "execute_result"
    }
   ],
   "source": [
    "#Insert the crimedata2017 (dictionary format) into sqlite\n",
    "conn.execute(crimedata2017.insert(), crimedata2017_dict)"
   ]
  },
  {
   "cell_type": "code",
   "execution_count": 74,
   "metadata": {},
   "outputs": [
    {
     "data": {
      "text/plain": [
       "[(1, 186043061, 'LARCENY/THEFT', 'GRAND THEFT OF PROPERTY', 'Sunday', '01/01/2017', '00:01', 'NORTHERN', 'NONE', '0 Block of HERMANN ST', -122.42596301730948, 37.77070812317366, '(37.77070812317366, -122.42596301730948)', 18604306106374.0),\n",
       " (2, 186043061, 'LARCENY/THEFT', 'PETTY THEFT OF PROPERTY', 'Sunday', '01/01/2017', '00:01', 'NORTHERN', 'NONE', '0 Block of HERMANN ST', -122.42596301730948, 37.77070812317366, '(37.77070812317366, -122.42596301730948)', 18604306106372.0),\n",
       " (3, 186006116, 'LARCENY/THEFT', 'GRAND THEFT OF PROPERTY', 'Sunday', '01/01/2017', '09:00', 'NORTHERN', 'NONE', 'HAIGHT ST / STEINER ST', -122.43209555515361, 37.77189574196664, '(37.77189574196664, -122.43209555515361)', 18600611606374.0),\n",
       " (4, 180080782, 'SEX OFFENSES, FORCIBLE', 'FORCIBLE RAPE, BODILY FORCE', 'Sunday', '01/01/2017', '00:01', 'INGLESIDE', 'NONE', '100 Block of DUNCAN ST', -122.4234838326707, 37.74636244735492, '(37.74636244735492, -122.4234838326707)', 18008078202004.0),\n",
       " (5, 180002015, 'TRESPASS', 'TRESPASSING', 'Sunday', '01/01/2017', '17:37', 'TENDERLOIN', 'NONE', '200 Block of TURK ST', -122.41323751667596, 37.7828430233213, '(37.7828430233213, -122.41323751667596)', 18000201527195.0),\n",
       " (6, 180002015, 'SECONDARY CODES', 'DOMESTIC VIOLENCE', 'Sunday', '01/01/2017', '17:37', 'TENDERLOIN', 'NONE', '200 Block of TURK ST', -122.41323751667596, 37.7828430233213, '(37.7828430233213, -122.41323751667596)', 18000201515200.0),\n",
       " (7, 180001675, 'DISORDERLY CONDUCT', 'DISTURBING THE PEACE', 'Sunday', '01/01/2017', '02:30', 'PARK', 'NONE', '0 Block of LAKEFOREST CT', -122.45989307989882, 37.754791646857264, '(37.754791646857264, -122.45989307989882)', 18000167519022.0),\n",
       " (8, 180000279, 'NON-CRIMINAL', 'AIDED CASE', 'Sunday', '01/01/2017', '02:00', 'NORTHERN', 'NONE', '1500 Block of BEACH ST', -122.43456153495198, 37.8048011616864, '(37.8048011616864, -122.43456153495198)', 18000027951040.0),\n",
       " (9, 179000044, 'DRUNKENNESS', 'UNDER INFLUENCE OF ALCOHOL IN A PUBLIC PLACE', 'Sunday', '01/01/2017', '01:41', 'TARAVAL', 'ARREST, BOOKED', 'DENSLOWE DR / HOLLOWAY AV', -122.47454458113094, 37.721194866951606, '(37.721194866951606, -122.47454458113094)', 17900004419090.0),\n",
       " (10, 176111991, 'LARCENY/THEFT', 'PETTY THEFT OF PROPERTY', 'Sunday', '01/01/2017', '16:24', 'SOUTHERN', 'NONE', '800 Block of BRYANT ST', -122.40340479147905, 37.775420706711, '(37.775420706711, -122.40340479147905)', 17611199106372.0)]"
      ]
     },
     "execution_count": 74,
     "metadata": {},
     "output_type": "execute_result"
    }
   ],
   "source": [
    "conn.execute(\"select * from crimedata2017 limit 10\").fetchall()"
   ]
  },
  {
   "cell_type": "code",
   "execution_count": null,
   "metadata": {
    "collapsed": true
   },
   "outputs": [],
   "source": []
  },
  {
   "cell_type": "code",
   "execution_count": null,
   "metadata": {
    "collapsed": true
   },
   "outputs": [],
   "source": []
  }
 ],
 "metadata": {
  "kernelspec": {
   "display_name": "Python [conda env:PythonData]",
   "language": "python",
   "name": "conda-env-PythonData-py"
  },
  "language_info": {
   "codemirror_mode": {
    "name": "ipython",
    "version": 3
   },
   "file_extension": ".py",
   "mimetype": "text/x-python",
   "name": "python",
   "nbconvert_exporter": "python",
   "pygments_lexer": "ipython3",
   "version": "3.6.4"
  }
 },
 "nbformat": 4,
 "nbformat_minor": 2
}
